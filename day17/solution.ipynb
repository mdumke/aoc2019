{
 "cells": [
  {
   "cell_type": "markdown",
   "metadata": {},
   "source": [
    "# Day 17: Set and Forget"
   ]
  },
  {
   "cell_type": "code",
   "execution_count": 1,
   "metadata": {},
   "outputs": [],
   "source": [
    "import numpy as np\n",
    "from intcomputer import Intcomputer"
   ]
  },
  {
   "cell_type": "code",
   "execution_count": 2,
   "metadata": {},
   "outputs": [],
   "source": [
    "with open('input.txt') as f:\n",
    "    code = [int(i) for i in f.readline().split(',')]"
   ]
  },
  {
   "cell_type": "markdown",
   "metadata": {},
   "source": [
    "## Part I"
   ]
  },
  {
   "cell_type": "code",
   "execution_count": 3,
   "metadata": {},
   "outputs": [],
   "source": [
    "def get_camera_image():\n",
    "    cpu = Intcomputer(code)\n",
    "\n",
    "    img = ''\n",
    "    state = 'INIT'\n",
    "\n",
    "    while state != 'HALT':\n",
    "        state, output = cpu.execute()\n",
    "        if output: img += chr(output)\n",
    "            \n",
    "    return img.rstrip('\\n')"
   ]
  },
  {
   "cell_type": "code",
   "execution_count": 4,
   "metadata": {},
   "outputs": [],
   "source": [
    "img = get_camera_image()"
   ]
  },
  {
   "cell_type": "code",
   "execution_count": 5,
   "metadata": {},
   "outputs": [
    {
     "name": "stdout",
     "output_type": "stream",
     "text": [
      "........................#############......................\n",
      "........................#...........#......................\n",
      "........................#...........#......................\n",
      "........................#...........#......................\n",
      "........................#...........#############..........\n",
      "........................#.......................#..........\n",
      "........................#.......................#..........\n",
      "........................#.......................#..........\n",
      "........................#.......................#..........\n",
      "........................#.......................#..........\n",
      "........................#.......................#..........\n",
      "........................#.......................#..........\n",
      "....................#####.......................#..........\n",
      "....................#...........................#..........\n",
      "....................#.........................#####.#......\n",
      "....................#.........................#.#.#.#......\n",
      "........#####.....#########.................#####.#.#......\n",
      "........#...#.....#.#.....#.................#.#...#.#......\n",
      "........#...#.....#.#.....#.................#.############^\n",
      "........#...#.....#.#.....#.................#.....#.#......\n",
      "#######.#...#############.#.................#.....#.#......\n",
      "#.....#.#.........#.#...#.#.................#.....#.#......\n",
      "#.....#.#.........#.#.#####.................#########......\n",
      "#.....#.#.........#.#.#.#.........................#........\n",
      "#.....#############.#####.........................#........\n",
      "#.......#.............#...........................#........\n",
      "#.......#.............#.......................#####........\n",
      "#.......#.............#.......................#............\n",
      "#########.............#.......................#............\n",
      "......................#.......................#............\n",
      "......................#.......................#............\n",
      "......................#.......................#............\n",
      "......................#.......................#............\n",
      "......................#.......................#............\n",
      "......................#############...........#............\n",
      "..................................#...........#............\n",
      "..................................#...........#............\n",
      "..................................#...........#............\n",
      "..................................#############............\n"
     ]
    }
   ],
   "source": [
    "print(img)"
   ]
  },
  {
   "cell_type": "code",
   "execution_count": 6,
   "metadata": {},
   "outputs": [],
   "source": [
    "def is_crossing(i, j, matrix):\n",
    "    try:\n",
    "        return (matrix[i, j] != '.'\n",
    "                and matrix[i + 1, j] != '.'\n",
    "                and matrix[i - 1, j] != '.'\n",
    "                and matrix[i, j + 1] != '.'\n",
    "                and matrix[i, j - 1] != '.')\n",
    "    except IndexError:\n",
    "        return False"
   ]
  },
  {
   "cell_type": "code",
   "execution_count": 7,
   "metadata": {},
   "outputs": [],
   "source": [
    "matrix = np.array([[tile for tile in line] for line in img.split('\\n')])"
   ]
  },
  {
   "cell_type": "code",
   "execution_count": 8,
   "metadata": {},
   "outputs": [],
   "source": [
    "crossings = [(i, j)\n",
    "             for i, row in enumerate(matrix)\n",
    "             for j, tile in enumerate(row) if is_crossing(i, j, matrix)]"
   ]
  },
  {
   "cell_type": "code",
   "execution_count": 9,
   "metadata": {},
   "outputs": [
    {
     "data": {
      "text/plain": [
       "6672"
      ]
     },
     "execution_count": 9,
     "metadata": {},
     "output_type": "execute_result"
    }
   ],
   "source": [
    "# sum of coordinate-products of crossing points\n",
    "sum([i * j for i, j in crossings])"
   ]
  },
  {
   "cell_type": "markdown",
   "metadata": {},
   "source": [
    "## Part II"
   ]
  },
  {
   "cell_type": "code",
   "execution_count": 10,
   "metadata": {},
   "outputs": [],
   "source": [
    "U = (-1, 0)\n",
    "L = (0, -1)\n",
    "D = (1, 0)\n",
    "R = (0, 1)"
   ]
  },
  {
   "cell_type": "code",
   "execution_count": 11,
   "metadata": {},
   "outputs": [],
   "source": [
    "def get_starting_parameters(matrix):\n",
    "    i, j = np.where(matrix == '^')\n",
    "    return (i[0], j[0]), U"
   ]
  },
  {
   "cell_type": "code",
   "execution_count": 12,
   "metadata": {},
   "outputs": [],
   "source": [
    "def count_tiles(position, direction):\n",
    "    count = 0\n",
    "    current = position\n",
    "    \n",
    "    while True:\n",
    "        try:\n",
    "            current = tuple(np.add(current, direction))\n",
    "            if matrix[current] in '#':\n",
    "                count += 1\n",
    "            else:\n",
    "                break\n",
    "        except IndexError:\n",
    "            break\n",
    "    \n",
    "    return count"
   ]
  },
  {
   "cell_type": "code",
   "execution_count": 13,
   "metadata": {},
   "outputs": [],
   "source": [
    "def turn_right(orientation):\n",
    "    return {U: R, R: D, D: L, L: U}[orientation]"
   ]
  },
  {
   "cell_type": "code",
   "execution_count": 14,
   "metadata": {},
   "outputs": [],
   "source": [
    "def turn_left(orientation):\n",
    "    return {U: L, L: D, D: R, R: U}[orientation]"
   ]
  },
  {
   "cell_type": "code",
   "execution_count": 15,
   "metadata": {},
   "outputs": [],
   "source": [
    "def move(position, orientation, steps):\n",
    "    for _ in range(steps):\n",
    "        position = tuple(np.add(position, orientation))\n",
    "    return position"
   ]
  },
  {
   "cell_type": "code",
   "execution_count": 16,
   "metadata": {},
   "outputs": [],
   "source": [
    "def find_path(matrix):\n",
    "    position, orientation = get_starting_parameters(matrix)\n",
    "    steps = []\n",
    "\n",
    "    while True:\n",
    "        tiles = count_tiles(position, orientation)\n",
    "\n",
    "        if tiles > 0:\n",
    "            steps.append(tiles)\n",
    "            position = move(position, orientation, tiles)\n",
    "        else:\n",
    "            # look right\n",
    "            if count_tiles(position, turn_right(orientation)):\n",
    "                steps.append('R')\n",
    "                orientation = turn_right(orientation)\n",
    "            # look left\n",
    "            elif count_tiles(position, turn_left(orientation)):\n",
    "                steps.append('L')\n",
    "                orientation = turn_left(orientation)\n",
    "            # endpoint reached\n",
    "            else:\n",
    "                break\n",
    "                \n",
    "    return steps"
   ]
  },
  {
   "cell_type": "code",
   "execution_count": 17,
   "metadata": {},
   "outputs": [],
   "source": [
    "steps = find_path(matrix)"
   ]
  },
  {
   "cell_type": "code",
   "execution_count": 18,
   "metadata": {},
   "outputs": [
    {
     "data": {
      "text/plain": [
       "['L', 12, 'R', 4, 'R', 4, 'R', 12, 'R', 4]"
      ]
     },
     "execution_count": 18,
     "metadata": {},
     "output_type": "execute_result"
    }
   ],
   "source": [
    "steps[:10]"
   ]
  },
  {
   "cell_type": "code",
   "execution_count": 19,
   "metadata": {},
   "outputs": [],
   "source": [
    "def split(sequence, maxlen=12):\n",
    "    \"\"\"Return three subsequences - building blocks of the sequence.\"\"\"\n",
    "    is_match = lambda i, j, l: l > 0 and sequence[i:i + l] == sequence[j:j + l]\n",
    "\n",
    "    a_pos = b_pos = c_pos = 0\n",
    "    a_len = b_len = c_len = 0\n",
    "    i = 0\n",
    "\n",
    "    while i < len(sequence):\n",
    "        if is_match(i, a_pos, a_len):\n",
    "            i += a_len\n",
    "        elif  is_match(i, b_pos, b_len):\n",
    "            i += b_len\n",
    "        elif is_match(i, c_pos, c_len):\n",
    "            i += c_len\n",
    "        elif c_len < maxlen:\n",
    "            if c_len == 0: c_pos = i\n",
    "            c_len += 1\n",
    "            i = 0\n",
    "        elif b_len < maxlen:\n",
    "            if b_len == 0: b_pos = i\n",
    "            b_len += 1\n",
    "            c_len = 0\n",
    "            i = 0\n",
    "        elif a_len < maxlen:\n",
    "            a_len += 1\n",
    "            b_len = c_len = 0\n",
    "            i = 0\n",
    "        else:\n",
    "            return None\n",
    "\n",
    "    return (sequence[a_pos:a_pos + a_len],\n",
    "            sequence[b_pos:b_pos + b_len],\n",
    "            sequence[c_pos:c_pos + c_len])\n"
   ]
  },
  {
   "cell_type": "code",
   "execution_count": 20,
   "metadata": {},
   "outputs": [
    {
     "data": {
      "text/plain": [
       "(['L', 12, 'R', 4, 'R', 4],\n",
       " ['R', 12, 'R', 4, 'L', 6, 'L', 8, 'L', 8],\n",
       " ['R', 12, 'R', 4, 'L', 12])"
      ]
     },
     "execution_count": 20,
     "metadata": {},
     "output_type": "execute_result"
    }
   ],
   "source": [
    "a, b, c = split(steps)\n",
    "a, b, c"
   ]
  },
  {
   "cell_type": "code",
   "execution_count": 21,
   "metadata": {},
   "outputs": [],
   "source": [
    "main = []\n",
    "i = 0\n",
    "\n",
    "while i < len(steps):\n",
    "    if steps[i:i + len(a)] == a:\n",
    "        main.append('A')\n",
    "        i += len(a)\n",
    "    elif steps[i:i + len(b)] == b:\n",
    "        main.append('B')\n",
    "        i += len(b)\n",
    "    elif steps[i:i + len(c)] == c:\n",
    "        main.append('C')\n",
    "        i += len(c)\n",
    "    else:\n",
    "        raise ValueError"
   ]
  },
  {
   "cell_type": "code",
   "execution_count": 22,
   "metadata": {},
   "outputs": [
    {
     "data": {
      "text/plain": [
       "['A', 'C', 'C', 'B', 'B', 'A', 'A', 'C', 'C', 'B']"
      ]
     },
     "execution_count": 22,
     "metadata": {},
     "output_type": "execute_result"
    }
   ],
   "source": [
    "main"
   ]
  },
  {
   "cell_type": "code",
   "execution_count": 23,
   "metadata": {},
   "outputs": [],
   "source": [
    "def programs():\n",
    "    for seq in [main, a, b, c]:\n",
    "        yield [ord(n) for n in ','.join(map(str, seq)) + '\\n']\n",
    "        \n",
    "    yield [ord('n'), ord('\\n')]"
   ]
  },
  {
   "cell_type": "code",
   "execution_count": 24,
   "metadata": {},
   "outputs": [],
   "source": [
    "progs = programs()\n",
    "\n",
    "cpu = Intcomputer(code)\n",
    "cpu.memory[0] = 2\n",
    "\n",
    "output = [[]]\n",
    "state = 'INIT'\n",
    "\n",
    "while state != 'HALT':\n",
    "    state, out = cpu.execute()\n",
    "    \n",
    "    if state == 'OUTPUT':\n",
    "        output[-1].append(out)\n",
    "    \n",
    "    if state == 'WAITING':\n",
    "        prog = next(progs)\n",
    "        \n",
    "        while state == 'WAITING':\n",
    "            state, out = cpu.execute(prog.pop(0))\n",
    "        \n",
    "        if state == 'OUTPUT':\n",
    "            output.append([out])"
   ]
  },
  {
   "cell_type": "code",
   "execution_count": 25,
   "metadata": {},
   "outputs": [
    {
     "data": {
      "text/plain": [
       "923017"
      ]
     },
     "execution_count": 25,
     "metadata": {},
     "output_type": "execute_result"
    }
   ],
   "source": [
    "# last number the program outputs\n",
    "output[-1][-1]"
   ]
  },
  {
   "cell_type": "code",
   "execution_count": null,
   "metadata": {},
   "outputs": [],
   "source": []
  }
 ],
 "metadata": {
  "kernelspec": {
   "display_name": "Python 3",
   "language": "python",
   "name": "python3"
  },
  "language_info": {
   "codemirror_mode": {
    "name": "ipython",
    "version": 3
   },
   "file_extension": ".py",
   "mimetype": "text/x-python",
   "name": "python",
   "nbconvert_exporter": "python",
   "pygments_lexer": "ipython3",
   "version": "3.7.5"
  }
 },
 "nbformat": 4,
 "nbformat_minor": 2
}
